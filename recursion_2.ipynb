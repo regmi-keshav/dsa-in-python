{
 "cells": [
  {
   "cell_type": "code",
   "execution_count": 3,
   "id": "5a02d350",
   "metadata": {},
   "outputs": [],
   "source": [
    "# replacing the character in the string\n",
    "\n",
    "def replaceChar(s, a, b):\n",
    "    if len(s) == 0:\n",
    "        return s\n",
    "    smallOutput = replaceChar(s[1:], a, b)\n",
    "    if s[0] == a:\n",
    "        return b + smallOutput\n",
    "    else:\n",
    "        return s[0] + smallOutput"
   ]
  },
  {
   "cell_type": "code",
   "execution_count": 4,
   "id": "3b863efb",
   "metadata": {},
   "outputs": [
    {
     "data": {
      "text/plain": [
       "'xcxxaxcxxx'"
      ]
     },
     "execution_count": 4,
     "metadata": {},
     "output_type": "execute_result"
    }
   ],
   "source": [
    "replaceChar('bcdxabcdxb','b', 'd', 'x')"
   ]
  },
  {
   "cell_type": "code",
   "execution_count": 16,
   "id": "e4855ef4",
   "metadata": {},
   "outputs": [],
   "source": [
    "# replacing 'pi' with 3.14 in the string\n",
    "\n",
    "def replacePi(s):\n",
    "    if len(s) == 0 or len(s) == 1:\n",
    "        return s\n",
    "    if s[0] == 'p' and s[1] == 'i':\n",
    "        smallOutput = replacePi(s[2:])\n",
    "        return \"3.14\" + smallOutput\n",
    "    else:\n",
    "        smallOutput = replacePi(s[1:])\n",
    "        return s[0] + smallOutput\n",
    "        "
   ]
  },
  {
   "cell_type": "code",
   "execution_count": 17,
   "id": "0607ccdb",
   "metadata": {},
   "outputs": [
    {
     "data": {
      "text/plain": [
       "'ac3.14def3.143.14p3.14'"
      ]
     },
     "execution_count": 17,
     "metadata": {},
     "output_type": "execute_result"
    }
   ],
   "source": [
    "replacePi('acpidefpipippi')"
   ]
  },
  {
   "cell_type": "code",
   "execution_count": null,
   "id": "f8e517a2",
   "metadata": {},
   "outputs": [],
   "source": []
  }
 ],
 "metadata": {
  "kernelspec": {
   "display_name": "Python 3.9.6 64-bit",
   "language": "python",
   "name": "python3"
  },
  "language_info": {
   "codemirror_mode": {
    "name": "ipython",
    "version": 3
   },
   "file_extension": ".py",
   "mimetype": "text/x-python",
   "name": "python",
   "nbconvert_exporter": "python",
   "pygments_lexer": "ipython3",
   "version": "3.9.6"
  },
  "vscode": {
   "interpreter": {
    "hash": "996f2b6e98019c29df53ccff772a8e3fe7cdecb0ba4b3f6ddb9be804d297dd3d"
   }
  }
 },
 "nbformat": 4,
 "nbformat_minor": 5
}
