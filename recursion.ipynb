{
 "cells": [
  {
   "cell_type": "code",
   "execution_count": 3,
   "id": "211e1dd5",
   "metadata": {},
   "outputs": [],
   "source": [
    "#  Factorial using recursion\n",
    "\n",
    "def fact(n):\n",
    "    if n == 0:\n",
    "        return 1\n",
    "    return n * fact(n-1)"
   ]
  },
  {
   "cell_type": "code",
   "execution_count": 5,
   "id": "aa213999",
   "metadata": {},
   "outputs": [],
   "source": [
    "# Sum of first n natural numbers using Recursion\n",
    "def sum_of_natural_numbers(n):\n",
    "    if n == 1:\n",
    "        return 1\n",
    "    smallOutput = sum_of_natural_numbers(n - 1)\n",
    "    return n + smallOutput"
   ]
  },
  {
   "cell_type": "code",
   "execution_count": 8,
   "id": "50b23652",
   "metadata": {},
   "outputs": [],
   "source": [
    "# printing numbers from 1 to n\n",
    "\n",
    "def print_1_to_n(n):\n",
    "    if n == 0:\n",
    "        return\n",
    "    print_1_to_n(n-1)\n",
    "    print(n)\n",
    "    return"
   ]
  },
  {
   "cell_type": "code",
   "execution_count": 10,
   "id": "58f17f5a",
   "metadata": {},
   "outputs": [],
   "source": [
    "# printing numbers from n to 1\n",
    "\n",
    "def print_n_to_1(n):\n",
    "    if n == 0:\n",
    "        return\n",
    "    print(n)\n",
    "    print_n_to_1(n-1)\n",
    "    return"
   ]
  },
  {
   "cell_type": "code",
   "execution_count": 11,
   "id": "e680883f",
   "metadata": {},
   "outputs": [
    {
     "name": "stdout",
     "output_type": "stream",
     "text": [
      "Enter the number : 5\n",
      "The factorial of 5 is : 120\n",
      "Sum of first 5 natural numbers is : 15\n",
      "The numbers from 1 to 5 are : \n",
      "1\n",
      "2\n",
      "3\n",
      "4\n",
      "5\n",
      "The numbers from 5 to 1 are : \n",
      "5\n",
      "4\n",
      "3\n",
      "2\n",
      "1\n"
     ]
    }
   ],
   "source": [
    "n = int(input(\"Enter the number : \"))\n",
    "print(\"The factorial of {0} is : {1}\".format(n, fact(n)))\n",
    "print(\"Sum of first {0} natural numbers is : {1}\".format(n, sum_of_natural_numbers(n)))\n",
    "print(\"The numbers from 1 to {0} are : \".format(n))\n",
    "print_1_to_n(n)\n",
    "print(\"The numbers from {0} to 1 are : \".format(n))\n",
    "print_n_to_1(n)"
   ]
  },
  {
   "cell_type": "code",
   "execution_count": 12,
   "id": "56b8d24e",
   "metadata": {},
   "outputs": [
    {
     "data": {
      "text/plain": [
       "8"
      ]
     },
     "execution_count": 12,
     "metadata": {},
     "output_type": "execute_result"
    }
   ],
   "source": [
    "#  Fibonacci Series\n",
    "\n",
    "def fib(n):\n",
    "    if n == 1 or n == 2:\n",
    "        return 1\n",
    "    output = fib(n-1) + fib(n-2)\n",
    "    return output\n",
    "fib(6)"
   ]
  },
  {
   "cell_type": "code",
   "execution_count": 13,
   "id": "8dde1b44",
   "metadata": {},
   "outputs": [
    {
     "name": "stdout",
     "output_type": "stream",
     "text": [
      "Enter list with space : \n",
      "1 2 3 4 5\n"
     ]
    },
    {
     "data": {
      "text/plain": [
       "True"
      ]
     },
     "execution_count": 13,
     "metadata": {},
     "output_type": "execute_result"
    }
   ],
   "source": [
    "# Check if the list is sorted or not\n",
    "\n",
    "def isSorted(a):\n",
    "    l = len(a)\n",
    "    if l == 0 or l == 1:\n",
    "        return True\n",
    "    if a[0] > a[1]:\n",
    "        return False\n",
    "    smallList = a[1:]\n",
    "    isSmallListSorted = isSorted(smallList)\n",
    "    if isSmallListSorted:\n",
    "        return True\n",
    "    else:\n",
    "        return False\n",
    "\n",
    "a = input(\"Enter list with space : \\n\").split()\n",
    "isSorted(a)\n"
   ]
  },
  {
   "cell_type": "code",
   "execution_count": 14,
   "id": "1f0dfb63",
   "metadata": {},
   "outputs": [
    {
     "name": "stdout",
     "output_type": "stream",
     "text": [
      "Enter the list : 1 4 3 2\n"
     ]
    },
    {
     "data": {
      "text/plain": [
       "False"
      ]
     },
     "execution_count": 14,
     "metadata": {},
     "output_type": "execute_result"
    }
   ],
   "source": [
    "def isSorted(a, i):\n",
    "    l = len(a)\n",
    "    if i == l or i == l - 1:\n",
    "        return True\n",
    "    if a[i] > a[i + 1]:\n",
    "        return False\n",
    "    return isSorted(a, i + 1)\n",
    "a = input(\"Enter the list : \").split()\n",
    "isSorted(a, 0)"
   ]
  },
  {
   "cell_type": "code",
   "execution_count": 16,
   "id": "10b98099",
   "metadata": {},
   "outputs": [
    {
     "name": "stdout",
     "output_type": "stream",
     "text": [
      "Enter the list with space : \n",
      "1 2 3 4 5\n"
     ]
    },
    {
     "data": {
      "text/plain": [
       "True"
      ]
     },
     "execution_count": 16,
     "metadata": {},
     "output_type": "execute_result"
    }
   ],
   "source": [
    "# modifying isSorted() function for better performance\n",
    "def isSortedBetter(a, i):\n",
    "    l = len(a)\n",
    "    if i == l - 1 or i == l:\n",
    "        return True\n",
    "    if a[i] > a[i + 1]:\n",
    "        return False\n",
    "    isSmallerPartSorted = isSortedBetter(a, i + 1)\n",
    "    return isSmallerPartSorted\n",
    "\n",
    "a = input(\"Enter the list with space : \\n\").split()\n",
    "isSortedBetter(a, 0)"
   ]
  },
  {
   "cell_type": "code",
   "execution_count": 4,
   "id": "05959325",
   "metadata": {},
   "outputs": [],
   "source": [
    "# checking for the first index of number in the list\n",
    "def firstIndex(a, x):\n",
    "    l = len(a)\n",
    "    if l == 0:\n",
    "        return -1\n",
    "    if a[0] == x:\n",
    "        return 0\n",
    "    smallList = a[1:]\n",
    "    output = firstIndex(smallList, x)\n",
    "    if output == -1:\n",
    "        return -1\n",
    "    else:\n",
    "        return output + 1"
   ]
  },
  {
   "cell_type": "code",
   "execution_count": 6,
   "id": "288875b2",
   "metadata": {},
   "outputs": [
    {
     "name": "stdout",
     "output_type": "stream",
     "text": [
      "Enter the number of elements : 10\n",
      "Enter the list with space : 1 2 3 4 5 6 7 9 7 10\n",
      "Enter the element to search : 7\n"
     ]
    },
    {
     "data": {
      "text/plain": [
       "6"
      ]
     },
     "execution_count": 6,
     "metadata": {},
     "output_type": "execute_result"
    }
   ],
   "source": [
    "# checking for the first index of number in the list using index\n",
    "def firstIndexBetter(a, x, i):\n",
    "    l = len(a)\n",
    "    if i == l - 1:\n",
    "        return -1\n",
    "    if a[i] == x:\n",
    "        return i\n",
    "    output = firstIndexBetter(a, x, i + 1)\n",
    "    if output == -1:\n",
    "        return -1\n",
    "    else:\n",
    "        return output\n",
    "n = int(input(\"Enter the number of elements : \"))\n",
    "a = list(map(int, input(\"Enter the list with space : \").strip().split()))[:n]\n",
    "x = int(input(\"Enter the element to search : \"))\n",
    "firstIndex(a, x)\n",
    "firstIndexBetter(a, x, 0)"
   ]
  },
  {
   "cell_type": "code",
   "execution_count": null,
   "id": "45b3bab9",
   "metadata": {},
   "outputs": [],
   "source": []
  }
 ],
 "metadata": {
  "kernelspec": {
   "display_name": "Python 3 (ipykernel)",
   "language": "python",
   "name": "python3"
  },
  "language_info": {
   "codemirror_mode": {
    "name": "ipython",
    "version": 3
   },
   "file_extension": ".py",
   "mimetype": "text/x-python",
   "name": "python",
   "nbconvert_exporter": "python",
   "pygments_lexer": "ipython3",
   "version": "3.9.6"
  }
 },
 "nbformat": 4,
 "nbformat_minor": 5
}
