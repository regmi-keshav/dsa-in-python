{
 "cells": [
  {
   "cell_type": "code",
   "execution_count": 3,
   "id": "211e1dd5",
   "metadata": {},
   "outputs": [],
   "source": [
    "#  Factorial using recursion\n",
    "\n",
    "def fact(n):\n",
    "    if n == 0:\n",
    "        return 1\n",
    "    return n * fact(n-1)"
   ]
  },
  {
   "cell_type": "code",
   "execution_count": 5,
   "id": "1713421e",
   "metadata": {},
   "outputs": [],
   "source": [
    "# Sum of first n natural numbers using Recursion\n",
    "def sum_of_natural_numbers(n):\n",
    "    if n == 1:\n",
    "        return 1\n",
    "    smallOutput = sum_of_natural_numbers(n - 1)\n",
    "    return n + smallOutput"
   ]
  },
  {
   "cell_type": "code",
   "execution_count": 7,
   "id": "e680883f",
   "metadata": {},
   "outputs": [
    {
     "name": "stdout",
     "output_type": "stream",
     "text": [
      "Enter the number : 5\n",
      "The factorial of 5 is : 120\n",
      "Sum of first 5 natural numbers is : 15\n"
     ]
    }
   ],
   "source": [
    "n = int(input(\"Enter the number : \"))\n",
    "print(\"The factorial of {0} is : {1}\".format(n, fact(n)))\n",
    "print(\"Sum of first {0} natural numbers is : {1}\".format(n, sum_of_natural_numbers(n)))"
   ]
  },
  {
   "cell_type": "code",
   "execution_count": null,
   "id": "3c1897f8",
   "metadata": {},
   "outputs": [],
   "source": []
  }
 ],
 "metadata": {
  "kernelspec": {
   "display_name": "Python 3 (ipykernel)",
   "language": "python",
   "name": "python3"
  },
  "language_info": {
   "codemirror_mode": {
    "name": "ipython",
    "version": 3
   },
   "file_extension": ".py",
   "mimetype": "text/x-python",
   "name": "python",
   "nbconvert_exporter": "python",
   "pygments_lexer": "ipython3",
   "version": "3.9.6"
  }
 },
 "nbformat": 4,
 "nbformat_minor": 5
}
