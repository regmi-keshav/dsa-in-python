{
 "cells": [
  {
   "cell_type": "code",
   "execution_count": 3,
   "id": "211e1dd5",
   "metadata": {},
   "outputs": [],
   "source": [
    "#  Factorial using recursion\n",
    "\n",
    "def fact(n):\n",
    "    if n == 0:\n",
    "        return 1\n",
    "    return n * fact(n-1)"
   ]
  },
  {
   "cell_type": "code",
   "execution_count": 5,
   "id": "50ee975f",
   "metadata": {},
   "outputs": [],
   "source": [
    "# Sum of first n natural numbers using Recursion\n",
    "def sum_of_natural_numbers(n):\n",
    "    if n == 1:\n",
    "        return 1\n",
    "    smallOutput = sum_of_natural_numbers(n - 1)\n",
    "    return n + smallOutput"
   ]
  },
  {
   "cell_type": "code",
   "execution_count": 8,
   "id": "ba95fb5e",
   "metadata": {},
   "outputs": [],
   "source": [
    "# printing numbers from 1 to n\n",
    "\n",
    "def print_1_to_n(n):\n",
    "    if n == 0:\n",
    "        return\n",
    "    print_1_to_n(n-1)\n",
    "    print(n)\n",
    "    return"
   ]
  },
  {
   "cell_type": "code",
   "execution_count": 10,
   "id": "8d8f9d5e",
   "metadata": {},
   "outputs": [],
   "source": [
    "# printing numbers from n to 1\n",
    "\n",
    "def print_n_to_1(n):\n",
    "    if n == 0:\n",
    "        return\n",
    "    print(n)\n",
    "    print_n_to_1(n-1)\n",
    "    return"
   ]
  },
  {
   "cell_type": "code",
   "execution_count": 11,
   "id": "e680883f",
   "metadata": {},
   "outputs": [
    {
     "name": "stdout",
     "output_type": "stream",
     "text": [
      "Enter the number : 5\n",
      "The factorial of 5 is : 120\n",
      "Sum of first 5 natural numbers is : 15\n",
      "The numbers from 1 to 5 are : \n",
      "1\n",
      "2\n",
      "3\n",
      "4\n",
      "5\n",
      "The numbers from 5 to 1 are : \n",
      "5\n",
      "4\n",
      "3\n",
      "2\n",
      "1\n"
     ]
    }
   ],
   "source": [
    "n = int(input(\"Enter the number : \"))\n",
    "print(\"The factorial of {0} is : {1}\".format(n, fact(n)))\n",
    "print(\"Sum of first {0} natural numbers is : {1}\".format(n, sum_of_natural_numbers(n)))\n",
    "print(\"The numbers from 1 to {0} are : \".format(n))\n",
    "print_1_to_n(n)\n",
    "print(\"The numbers from {0} to 1 are : \".format(n))\n",
    "print_n_to_1(n)"
   ]
  },
  {
   "cell_type": "code",
   "execution_count": null,
   "id": "b36be1ee",
   "metadata": {},
   "outputs": [],
   "source": []
  }
 ],
 "metadata": {
  "kernelspec": {
   "display_name": "Python 3 (ipykernel)",
   "language": "python",
   "name": "python3"
  },
  "language_info": {
   "codemirror_mode": {
    "name": "ipython",
    "version": 3
   },
   "file_extension": ".py",
   "mimetype": "text/x-python",
   "name": "python",
   "nbconvert_exporter": "python",
   "pygments_lexer": "ipython3",
   "version": "3.9.6"
  }
 },
 "nbformat": 4,
 "nbformat_minor": 5
}
